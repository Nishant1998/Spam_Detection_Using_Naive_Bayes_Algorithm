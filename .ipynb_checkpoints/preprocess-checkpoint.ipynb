{
 "cells": [
  {
   "cell_type": "code",
   "execution_count": 1,
   "metadata": {},
   "outputs": [],
   "source": [
    "import sqlite3,string,nltk\n",
    "from nltk.corpus import stopwords\n",
    "from nltk.stem.porter import PorterStemmer"
   ]
  },
  {
   "cell_type": "code",
   "execution_count": null,
   "metadata": {},
   "outputs": [],
   "source": []
  },
  {
   "cell_type": "markdown",
   "metadata": {},
   "source": [
    "# connect data file and create cursor"
   ]
  },
  {
   "cell_type": "code",
   "execution_count": 15,
   "metadata": {},
   "outputs": [
    {
     "name": "stdout",
     "output_type": "stream",
     "text": [
      "['hello', 'guys', 'i', 'm', 'bugging', 'you', 'for', 'your', 'completed', 'questionnaire', 'and', 'for', 'a', 'one', 'page', 'bio', 'statement', 'on', 'your', 'thoughts', 'on', 'business', 'edu', 'and', 'the', 'new', 'economy', 'if', 'my', 'records', 'are', 'incorrect', 'please', 're', 'ship', 'your', 'responses', 'to', 'me', 'i', 'want', 'to', 'put', 'everything', 'together', 'next', 'week', 'so', 'that', 'i', 'can', 'ship', 'it', 'back', 'to', 'everyone', 'the', 'questionnaire', 'is', 'attached', 'as', 'well', 'as', 'copies', 'of', 'the', 'bio', 'pages', 'for', 'michael', 'froehls', 'and', 'myself', 'two', 'somewhat', 'different', 'approaches', 'the', 'idea', 'of', 'the', 'latter', 'is', 'just', 'to', 'introduce', 'yourself', 'to', 'the', 'other', 'panelists', 'and', 'give', 'them', 'some', 'background', 'on', 'how', 'you', 'are', 'approaching', 'the', 'issues', 'we', 'will', 'discuss', 'we', 'will', 'also', 'provide', 'copies', 'to', 'the', 'attendees', 'and', 'use', 'this', 'material', 'for', 'our', 'personal', 'introductions', 'at', 'the', 'opening', 'of', 'the', 'panel', 'discussions', 'thanks', 'and', 'i', 'look', 'forward', 'to', 'seeing', 'you', 'in', 'two', 'weeks', 'john', 'waco', 'background', 'mf', 'doc', 'jmartinbiosketch', 'doc', 'questionnaire', 'doc', 'john', 'd', 'martin', 'carr', 'p', 'collins', 'chair', 'in', 'finance', 'finance', 'department', 'baylor', 'university', 'po', 'box', 'waco', 'tx', 'office', 'fax', 'j', 'martin', 'baylor', 'edu', 'web', 'http', 'hsb', 'baylor', 'edu', 'html', 'martinj', 'home', 'html']\n",
      "<class 'list'>\n",
      "<class 'list'>\n"
     ]
    },
    {
     "ename": "OperationalError",
     "evalue": "near \"guy\": syntax error",
     "output_type": "error",
     "traceback": [
      "\u001b[1;31m---------------------------------------------------------------------------\u001b[0m",
      "\u001b[1;31mOperationalError\u001b[0m                          Traceback (most recent call last)",
      "\u001b[1;32m<ipython-input-15-dade65f96508>\u001b[0m in \u001b[0;36m<module>\u001b[1;34m\u001b[0m\n\u001b[0;32m     27\u001b[0m \u001b[1;33m\u001b[0m\u001b[0m\n\u001b[0;32m     28\u001b[0m         \u001b[0msql\u001b[0m \u001b[1;33m=\u001b[0m \u001b[1;34m\"insert into edata (sr_no,data,spam) values({},{},{})\"\u001b[0m\u001b[1;33m.\u001b[0m\u001b[0mformat\u001b[0m\u001b[1;33m(\u001b[0m\u001b[0msr_no\u001b[0m\u001b[1;33m,\u001b[0m\u001b[0med\u001b[0m\u001b[1;33m,\u001b[0m\u001b[0mj\u001b[0m\u001b[1;33m)\u001b[0m\u001b[1;33m\u001b[0m\u001b[1;33m\u001b[0m\u001b[0m\n\u001b[1;32m---> 29\u001b[1;33m         \u001b[0mx\u001b[0m \u001b[1;33m=\u001b[0m \u001b[0mconn\u001b[0m\u001b[1;33m.\u001b[0m\u001b[0mexecute\u001b[0m\u001b[1;33m(\u001b[0m\u001b[0msql\u001b[0m\u001b[1;33m)\u001b[0m\u001b[1;33m\u001b[0m\u001b[1;33m\u001b[0m\u001b[0m\n\u001b[0m\u001b[0;32m     30\u001b[0m \u001b[1;33m\u001b[0m\u001b[0m\n\u001b[0;32m     31\u001b[0m         \u001b[0mconn\u001b[0m\u001b[1;33m.\u001b[0m\u001b[0mcommit\u001b[0m\u001b[1;33m(\u001b[0m\u001b[1;33m)\u001b[0m\u001b[1;33m;\u001b[0m\u001b[1;33m\u001b[0m\u001b[1;33m\u001b[0m\u001b[0m\n",
      "\u001b[1;31mOperationalError\u001b[0m: near \"guy\": syntax error"
     ]
    }
   ],
   "source": [
    "#def main():\n",
    "conn = sqlite3.connect('data.db')\n",
    "cr = conn.cursor();\n",
    "for j in range(2):\n",
    "    if j == 0:\n",
    "        n=4358\n",
    "        a = 'h'\n",
    "    elif j == 1:\n",
    "        n = 1368\n",
    "        a = 'sp'\n",
    "    for i in range(n):\n",
    "        i = i + 1\n",
    "        sql = \"select message from {}am_emails where sr_no = {};\".format(a,i)\n",
    "        ms = conn.execute(sql)\n",
    "        for c in ms:raw_mess = ''.join(c)    \n",
    "        \n",
    "        ed= \"\" \n",
    "        for x in extract_mess(raw_mess):\n",
    "            x += ' '\n",
    "            ed += x  \n",
    "        \n",
    "#         print(ed)\n",
    "        \n",
    "        if j==0:\n",
    "            sr_no = i \n",
    "        else : sr_no = i + 4358  \n",
    "      \n",
    "         #sql = \"insert into edata (sr_no,data,spam) values({},{},{})\".format(sr_no,ed,j)\n",
    "#         x = conn.execute(sql)\n",
    "        \n",
    "        conn.commit();\n",
    "        \n",
    "        \n",
    "        \n",
    "        \n",
    "      \n",
    "    "
   ]
  },
  {
   "cell_type": "code",
   "execution_count": null,
   "metadata": {},
   "outputs": [],
   "source": []
  },
  {
   "cell_type": "code",
   "execution_count": null,
   "metadata": {},
   "outputs": [],
   "source": []
  },
  {
   "cell_type": "code",
   "execution_count": null,
   "metadata": {},
   "outputs": [],
   "source": []
  },
  {
   "cell_type": "code",
   "execution_count": null,
   "metadata": {},
   "outputs": [],
   "source": []
  },
  {
   "cell_type": "code",
   "execution_count": 2,
   "metadata": {},
   "outputs": [],
   "source": [
    "def extract_mess(raw_mess):\n",
    "    #format text from proper extraction\n",
    "    raw_mess = raw_mess.lower()\n",
    "    raw_mess = raw_mess.replace(\"subject :\" ,\"subject:\")\n",
    "    raw_mess = raw_mess.replace(\"re :\",\"re:\")\n",
    "    raw_mess = raw_mess.replace(\"forwarded by\" ,\"forwarded_by\")\n",
    "    raw_mess = raw_mess.replace(\"to :\" ,\"to:\")\n",
    "    #into list\n",
    "    rl_mess = raw_mess.split()\n",
    "    \n",
    "    #extract\n",
    "    mess= [] \n",
    "    f = 0\n",
    "    for i in rl_mess:\n",
    "        if i == \"re:\":\n",
    "            continue\n",
    "        if i == \"subject:\":\n",
    "            f = 1\n",
    "            continue\n",
    "        if i == \"to:\" or i== \"forwarded_by\":\n",
    "            f = 0    \n",
    "        if f == 1:\n",
    "            mess.append(i)\n",
    "            \n",
    "    stem_mess  = stem_message(rmov_stop_words(rmov_pun(mess)))\n",
    "    return(stem_mess)\n",
    "    \n",
    "    "
   ]
  },
  {
   "cell_type": "code",
   "execution_count": 3,
   "metadata": {},
   "outputs": [],
   "source": [
    "#remove puntuation from message\n",
    "def rmov_pun(message):\n",
    "    mess_pless = [word for word in message if word.isalpha()]\n",
    "    print(mess_pless)\n",
    "    return mess_pless"
   ]
  },
  {
   "cell_type": "code",
   "execution_count": 4,
   "metadata": {},
   "outputs": [],
   "source": [
    "#removing stop words\n",
    "def rmov_stop_words(mess_pless):\n",
    "    print(type(mess_pless))\n",
    "    stop_words = stopwords.words('english')\n",
    "    mess_sless = [w for w in mess_pless if not w in stop_words]\n",
    "    return mess_sless"
   ]
  },
  {
   "cell_type": "code",
   "execution_count": 5,
   "metadata": {},
   "outputs": [],
   "source": [
    "#stem message\n",
    "def stem_message(mess_sless):\n",
    "    porter = PorterStemmer()\n",
    "    stemmed = [porter.stem(word) for word in mess_sless]\n",
    "    \n",
    "    print(type(stemmed))\n",
    "    return stemmed"
   ]
  },
  {
   "cell_type": "code",
   "execution_count": null,
   "metadata": {},
   "outputs": [],
   "source": [
    "#def __name__ == \"__main__\" : main()"
   ]
  },
  {
   "cell_type": "code",
   "execution_count": null,
   "metadata": {},
   "outputs": [],
   "source": []
  }
 ],
 "metadata": {
  "kernelspec": {
   "display_name": "Python 3",
   "language": "python",
   "name": "python3"
  },
  "language_info": {
   "codemirror_mode": {
    "name": "ipython",
    "version": 3
   },
   "file_extension": ".py",
   "mimetype": "text/x-python",
   "name": "python",
   "nbconvert_exporter": "python",
   "pygments_lexer": "ipython3",
   "version": "3.7.1"
  }
 },
 "nbformat": 4,
 "nbformat_minor": 2
}
